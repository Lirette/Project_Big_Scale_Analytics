{
  "nbformat": 4,
  "nbformat_minor": 0,
  "metadata": {
    "colab": {
      "name": "Final_project.ipynb",
      "provenance": []
    },
    "kernelspec": {
      "name": "python3",
      "display_name": "Python 3"
    },
    "language_info": {
      "name": "python"
    }
  },
  "cells": [
    {
      "cell_type": "markdown",
      "source": [
        "* [Click here ](https://github.com/Rolex-Github/Team_Rolex_BigScale) to open our githup repo \n",
        "* Callable API point which, given a text in French, will return its difficulty : [here](https://console.cloud.google.com/natural-language/locations/eu/datasets/TCN4260858246283132928;modelId=TCN6916178827362172928/predict?project=rising-dominion-348717)\n",
        " we had some troubles with this ............."
      ],
      "metadata": {
        "id": "0pompOWkOxlq"
      }
    },
    {
      "cell_type": "code",
      "execution_count": null,
      "metadata": {
        "id": "iIxKDsZJOovr"
      },
      "outputs": [],
      "source": [
        "* [Click here ](https://github.com/Rolex-Github/Team_Rolex_BigScale) to open our githup repo \n",
        "* Callable API point which, given a text in French, will return its difficulty : [here](https://console.cloud.google.com/natural-language/locations/eu/datasets/TCN4260858246283132928;modelId=TCN6916178827362172928/predict?project=rising-dominion-348717)\n",
        " we had some troubles with this ............."
      ]
    },
    {
      "cell_type": "code",
      "source": [
        "je crois que c'est bon maintenant"
      ],
      "metadata": {
        "id": "lqRNJXJrh-FA"
      },
      "execution_count": null,
      "outputs": []
    }
  ]
}