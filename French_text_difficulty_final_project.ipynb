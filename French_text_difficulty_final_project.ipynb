{
  "nbformat": 4,
  "nbformat_minor": 0,
  "metadata": {
    "colab": {
      "name": "French_text_difficulty_final_project.ipynb",
      "provenance": [],
      "collapsed_sections": [],
      "include_colab_link": true
    },
    "kernelspec": {
      "name": "python3",
      "display_name": "Python 3"
    },
    "language_info": {
      "name": "python"
    }
  },
  "cells": [
    {
      "cell_type": "markdown",
      "metadata": {
        "id": "view-in-github",
        "colab_type": "text"
      },
      "source": [
        "<a href=\"https://colab.research.google.com/github/Rolex-Github/Team_Rolex_BigScale/blob/main/French_text_difficulty_final_project.ipynb\" target=\"_parent\"><img src=\"https://colab.research.google.com/assets/colab-badge.svg\" alt=\"Open In Colab\"/></a>"
      ]
    },
    {
      "cell_type": "markdown",
      "source": [
        "# Lingorank Final deliverable"
      ],
      "metadata": {
        "id": "ALuqu24fQU3U"
      }
    },
    {
      "cell_type": "markdown",
      "source": [
        "Final Deliverables\n",
        "1. Github: A project GitHub page which will be updated accordingly during the different\n",
        "milestones. The main README and the notebook should reflect your current progress (and the\n",
        "relevant code). Note that, as we progress through the semester, you may need to revisit the\n",
        "previous parts. This is ok. You should evaluate your final result. Some part of your grade will\n",
        "also be influenced by the accuracy of your solution on the test set evaluation. In your README,\n",
        "mention your score for the metric and test data prepared by your TAs.\n"
      ],
      "metadata": {
        "id": "uRf8AYdpQe7_"
      }
    },
    {
      "cell_type": "markdown",
      "source": [
        "2. API Services: Provide the endpoints of all the services that you use and give examples how\n",
        "to call them. Clearly state what is the URL of your main service. Your main service should accept\n",
        "a sentence in French and return back its level. You may also have created other services (this is\n",
        "common when you design using a micro-services architecture). Clearly state all the web-service\n",
        "APIs that you use.\n"
      ],
      "metadata": {
        "id": "2P3fYFvZQrP_"
      }
    },
    {
      "cell_type": "markdown",
      "source": [
        "3. Tools: Mention which technical tools you used: Flask, docker, cloud service, etc.\n"
      ],
      "metadata": {
        "id": "nN3XUovIQvn2"
      }
    },
    {
      "cell_type": "markdown",
      "source": [
        "4. UI: A usable UI in the cloud where we can try your service. We expect to see (at least) a simple\n",
        "webpage with a UI where you enter a text and it returns back its easiness/difficulty level. Feel\n",
        "free to get creative here!"
      ],
      "metadata": {
        "id": "vjw8J_x5QyD2"
      }
    },
    {
      "cell_type": "markdown",
      "source": [
        "5. Video: Create a YouTube video of your solution and embed it in your notebook. Imagine you are\n",
        "giving a presentation or a tutorial. The video should explain:\n",
        "! The general architecture (cloud provider, technology, APIs, etc.)\n",
        "! How you modelled the problem.\n",
        "! Show the UI that you have created\n",
        "! An evaluation of your solution (accuracy, precision, recall, F1-score, etc.)\n",
        "! Post the video link to #project channel in Slack. All projects will also be presented live by the\n",
        "group during the last class.\n"
      ],
      "metadata": {
        "id": "_qOyPflWQ1Px"
      }
    }
  ]
}