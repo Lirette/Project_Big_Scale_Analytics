

{
  "nbformat": 4,
  "nbformat_minor": 0,
  "metadata": {
    "colab": {
      "name": "French_text_difficulty_milestone_02.ipynb",
      "provenance": [],
      "collapsed_sections": []
    },
    "kernelspec": {
      "name": "python3",
      "display_name": "Python 3"
    },
    "language_info": {
      "name": "python"
    }
  },
  "cells": [
    {
      "cell_type": "code",
      "execution_count": null,
      "metadata": {
        "id": "LOqgEhx5BDJY"
      },
      "outputs": [],
      "source": [
        ""
      ]
    }
  ]
}

