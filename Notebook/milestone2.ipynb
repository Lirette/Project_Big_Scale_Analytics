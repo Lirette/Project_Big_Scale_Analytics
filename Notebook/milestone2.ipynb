

    Click here to open our githup repo
    Callable API point which, given a text in French, will return its difficulty : here we had some troubles with this .............

* [Click here ](https://github.com/Rolex-Github/Team_Rolex_BigScale) to open our githup repo 
* Callable API point which, given a text in French, will return its difficulty : [here](https://console.cloud.google.com/natural-language/locations/eu/datasets/TCN4260858246283132928;modelId=TCN6916178827362172928/predict?project=rising-dominion-348717)
 we had some troubles with this .............

je crois que c'est bon maintenant

