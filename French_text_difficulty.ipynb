{
  "nbformat": 4,
  "nbformat_minor": 0,
  "metadata": {
    "colab": {
      "name": "French_text_difficulty.ipynb",
      "provenance": [],
      "authorship_tag": "ABX9TyP4etdpfe+SK5iXn96nvIzG",
      "include_colab_link": true
    },
    "kernelspec": {
      "name": "python3",
      "display_name": "Python 3"
    },
    "language_info": {
      "name": "python"
    }
  },
  "cells": [
    {
      "cell_type": "markdown",
      "metadata": {
        "id": "view-in-github",
        "colab_type": "text"
      },
      "source": [
        "<a href=\"https://colab.research.google.com/github/Rolex-Github/Team_Rolex_BigScale/blob/main/French_text_difficulty.ipynb\" target=\"_parent\"><img src=\"https://colab.research.google.com/assets/colab-badge.svg\" alt=\"Open In Colab\"/></a>"
      ]
    },
    {
      "cell_type": "markdown",
      "source": [
        "# Predict  the difficulty of a french text"
      ],
      "metadata": {
        "id": "sl310LVKoa3y"
      }
    }
  ]
}