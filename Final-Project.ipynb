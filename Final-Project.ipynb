{
  "nbformat": 4,
  "nbformat_minor": 0,
  "metadata": {
    "colab": {
      "name": "Untitled5.ipynb",
      "provenance": [],
      "collapsed_sections": []
    },
    "kernelspec": {
      "name": "python3",
      "display_name": "Python 3"
    },
    "language_info": {
      "name": "python"
    }
  },
  "cells": [
    {
      "cell_type": "code",
      "execution_count": null,
      "metadata": {
        "id": "2VrkeuOsHQiG"
      },
      "outputs": [],
      "source": [
        "here we are poing \n",
        "#LingoRand\n",
        "Or how to become a millionaire.\n",
        "\n",
        "*Let's build a model for English speakers that predicts the difficulty of a French written text.*\n",
        "\n",
        "Lirette Teiffouet, Valerie Tsague"
      ]
    },
    {
      "cell_type": "markdown",
      "source": [
        "* [Click here ](https://github.com/Rolex-Github/Team_Rolex_BigScale) to open our githup repo \n",
        "* Callable API point which, given a text in French, will return its difficulty : [here](https://console.cloud.google.com/natural-language/locations/eu/datasets/TCN4260858246283132928;modelId=TCN6916178827362172928/predict?project=rising-dominion-348717)\n",
        " we had some troubles with this ............."
      ],
      "metadata": {
        "id": "CDDqJgIYL0nG"
      }
    }
  ]
}